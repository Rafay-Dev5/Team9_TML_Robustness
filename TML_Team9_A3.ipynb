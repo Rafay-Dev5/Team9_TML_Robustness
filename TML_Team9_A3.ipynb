{
 "cells": [
  {
   "cell_type": "code",
   "execution_count": 1,
   "metadata": {},
   "outputs": [],
   "source": [
    "import torch\n",
    "from torch.utils.data import DataLoader, random_split, Dataset\n",
    "from torchvision import transforms, models\n",
    "import torch.nn as nn\n",
    "import torch.optim as optim\n",
    "from tqdm import tqdm\n",
    "import copy"
   ]
  },
  {
   "cell_type": "code",
   "execution_count": 2,
   "metadata": {},
   "outputs": [],
   "source": [
    "import gdown\n",
    "\n",
    "downloaded = True\n",
    "Train_id = '1-iTQMYNtj4GlJW5k1q73OvDdsoemXSdr'\n",
    "\n",
    "if not downloaded:\n",
    "    gdown.download(f'https://drive.google.com/uc?id={Train_id}', 'Train.pt', quiet=False)"
   ]
  },
  {
   "cell_type": "code",
   "execution_count": 3,
   "metadata": {},
   "outputs": [],
   "source": [
    "# Define the dataset class\n",
    "class TaskDataset(Dataset):\n",
    "    def __init__(self, imgs, labels, transform=None):\n",
    "        self.imgs = imgs\n",
    "        self.labels = labels\n",
    "        self.transform = transform\n",
    "\n",
    "    def __len__(self):\n",
    "        return len(self.imgs)\n",
    "\n",
    "    def __getitem__(self, idx):\n",
    "        img = self.imgs[idx]\n",
    "        label = self.labels[idx]\n",
    "        if self.transform:\n",
    "            img = self.transform(img)\n",
    "        return img, label\n"
   ]
  },
  {
   "cell_type": "code",
   "execution_count": 4,
   "metadata": {},
   "outputs": [],
   "source": [
    "\n",
    "transform = transforms.Compose([\n",
    "    transforms.Grayscale(num_output_channels=3),  \n",
    "    transforms.ToTensor()])                      "
   ]
  },
  {
   "cell_type": "code",
   "execution_count": 5,
   "metadata": {},
   "outputs": [],
   "source": [
    "data = torch.load('Train.pt')\n",
    "\n",
    "full_dataset = TaskDataset(data.imgs, data.labels, transform=transform)\n",
    "\n",
    "train_size = int(0.9 * len(full_dataset))\n",
    "val_size = len(full_dataset) - train_size\n",
    "train_dataset, val_dataset = random_split(full_dataset, [train_size, val_size])"
   ]
  },
  {
   "cell_type": "code",
   "execution_count": 13,
   "metadata": {},
   "outputs": [],
   "source": [
    "train_loader = DataLoader(train_dataset, batch_size=64, shuffle=True)\n",
    "val_loader = DataLoader(val_dataset, batch_size=64, shuffle=False)\n",
    "\n",
    "model = models.resnet34(pretrained=True)\n",
    "num_classes = 10  \n",
    "model.fc = nn.Linear(model.fc.in_features, num_classes)\n",
    "\n",
    "device = torch.device('cuda' if torch.cuda.is_available() else 'cpu')\n",
    "model = model.to(device)\n",
    "\n",
    "criterion = nn.CrossEntropyLoss()\n",
    "optimizer = optim.SGD(model.parameters(), lr=0.05, momentum = 0.9)"
   ]
  },
  {
   "cell_type": "code",
   "execution_count": 14,
   "metadata": {},
   "outputs": [],
   "source": [
    "def pgd(model, X, y, epsilon=0.01, alpha=0.001, num_iter=10, randomize=False):\n",
    "    delta = torch.zeros_like(X, requires_grad=True)\n",
    "    if randomize:\n",
    "        delta.data.uniform_(-epsilon, epsilon)\n",
    "    for t in range(num_iter):\n",
    "        loss = criterion(model(X + delta), y)\n",
    "        loss.backward()\n",
    "        delta.data = (delta + alpha * delta.grad.detach().sign()).clamp(-epsilon, epsilon)\n",
    "        delta.grad.zero_()\n",
    "    return delta.detach()"
   ]
  },
  {
   "cell_type": "code",
   "execution_count": 15,
   "metadata": {},
   "outputs": [],
   "source": [
    "def fgsm(model, X, y, epsilon=0.01):\n",
    "    delta = torch.zeros_like(X, requires_grad=True)\n",
    "    loss = nn.CrossEntropyLoss()(model(X + delta), y)\n",
    "    loss.backward()\n",
    "    return epsilon * delta.grad.detach().sign()"
   ]
  },
  {
   "cell_type": "code",
   "execution_count": 16,
   "metadata": {},
   "outputs": [],
   "source": [
    "def evaluate_model(model, data_loader, device, attack=None, epsilon=0.01):\n",
    "    model.eval()\n",
    "    correct_predictions = 0\n",
    "    total_predictions = 0\n",
    "    total_loss = 0.0\n",
    "\n",
    "    with torch.no_grad():\n",
    "        with tqdm(total=len(data_loader), desc='Evaluating', unit='batch') as pbar:\n",
    "            for imgs, labels in data_loader:\n",
    "                imgs, labels = imgs.to(device), labels.to(device)\n",
    "                \n",
    "                if attack is not None:\n",
    "                    with torch.enable_grad():  # Ensure gradients are enabled for attack\n",
    "                        delta = attack(model, imgs, labels, epsilon)    \n",
    "                    imgs = imgs + delta\n",
    "\n",
    "                outputs = model(imgs)\n",
    "                loss = criterion(outputs, labels)\n",
    "                total_loss += loss.item()\n",
    "\n",
    "                _, predicted = torch.max(outputs, 1)\n",
    "                correct_predictions += (predicted == labels).sum().item()\n",
    "                total_predictions += labels.size(0)\n",
    "\n",
    "                pbar.update(1)\n",
    "\n",
    "    avg_loss = total_loss / len(data_loader)\n",
    "    accuracy = correct_predictions / total_predictions\n",
    "\n",
    "    return avg_loss, accuracy"
   ]
  },
  {
   "cell_type": "code",
   "execution_count": null,
   "metadata": {},
   "outputs": [],
   "source": [
    "print(torch.cuda.is_available())"
   ]
  },
  {
   "cell_type": "code",
   "execution_count": null,
   "metadata": {},
   "outputs": [],
   "source": [
    "def train_model(model, train_loader, val_loader, device, num_epochs=10, patience=3):\n",
    "    best_model_wts = copy.deepcopy(model.state_dict())\n",
    "    best_acc = 0\n",
    "    best_loss = float('inf')\n",
    "    epochs_no_improve = 0\n",
    "\n",
    "    for epoch in range(num_epochs):\n",
    "        model.train()\n",
    "        running_loss = 0.0\n",
    "        correct_predictions = 0\n",
    "        total_predictions = 0\n",
    "\n",
    "        with tqdm(total=len(train_loader), desc=f'Epoch {epoch + 1}/{num_epochs}', unit='batch') as pbar:\n",
    "            for imgs, labels in train_loader:\n",
    "                imgs, labels = imgs.to(device), labels.to(device)\n",
    "\n",
    "                delta = pgd(model, imgs, labels)\n",
    "\n",
    "                optimizer.zero_grad()\n",
    "\n",
    "                outputs = model(imgs + delta)\n",
    "                loss = criterion(outputs, labels)\n",
    "\n",
    "                loss.backward()\n",
    "                optimizer.step()\n",
    "\n",
    "                running_loss += loss.item()\n",
    "\n",
    "                _, predicted = torch.max(outputs, 1)\n",
    "                correct_predictions += (predicted == labels).sum().item()\n",
    "                total_predictions += labels.size(0)\n",
    "\n",
    "                pbar.update(1)\n",
    "                pbar.set_postfix({'loss': running_loss / (total_predictions / labels.size(0)),\n",
    "                                  'accuracy': correct_predictions / total_predictions})\n",
    "\n",
    "        avg_train_loss = running_loss / len(train_loader)\n",
    "        train_accuracy = correct_predictions / total_predictions\n",
    "\n",
    "        val_loss, val_accuracy = evaluate_model(model, val_loader, device, attack=pgd)\n",
    "        clean_loss, clean_accuracy = evaluate_model(model, val_loader, device)\n",
    "\n",
    "\n",
    "        print(f'Epoch [{epoch + 1}/{num_epochs}], Train Loss: {avg_train_loss:.4f}, Train Accuracy: {train_accuracy:.4f}, Val Loss: {val_loss:.4f}, Val Accuracy: {val_accuracy:.4f}, Clean Loss: {clean_loss:.4f}, Clean Accuracy: {clean_accuracy:.4f}')\n",
    "\n",
    "        if val_accuracy > best_acc:\n",
    "            best_acc = val_accuracy\n",
    "            best_model_wts = copy.deepcopy(model.state_dict())\n",
    "            epochs_no_improve = 0\n",
    "        else:\n",
    "            epochs_no_improve += 1\n",
    "            if epochs_no_improve >= patience:\n",
    "                print('Early stopping')\n",
    "                break\n",
    "\n",
    "    model.load_state_dict(best_model_wts)\n",
    "    return model\n",
    "\n",
    "# Train the model with early stopping\n",
    "best_model = train_model(model, train_loader, val_loader, device, num_epochs=10, patience=3)\n"
   ]
  },
  {
   "cell_type": "code",
   "execution_count": null,
   "metadata": {},
   "outputs": [],
   "source": [
    "# Evaluate the best model\n",
    "def evaluate_all(model, val_loader, device):\n",
    "    print(\"Evaluating Clean Accuracy\")\n",
    "    clean_loss, clean_accuracy = evaluate_model(model, val_loader, device)\n",
    "\n",
    "    print(\"Evaluating Robust Accuracy (FGSM)\")\n",
    "    fgsm_loss, fgsm_accuracy = evaluate_model(model, val_loader, device, attack=fgsm)\n",
    "\n",
    "    print(\"Evaluating Robust Accuracy (PGD)\")\n",
    "    pgd_loss, pgd_accuracy = evaluate_model(model, val_loader, device, attack=pgd)\n",
    "\n",
    "    print(f'Clean Accuracy: {clean_accuracy:.4f} \\t Clean Loss: {clean_loss:.4f}')\n",
    "    print(f'Robust Accuracy (FGSM): {fgsm_accuracy:.4f} \\t FGSM Loss: {fgsm_loss:.4f}')\n",
    "    print(f'Robust Accuracy (PGD): {pgd_accuracy:.4f} \\t PGD Loss: {pgd_loss:.4f}')\n",
    "\n",
    "# Evaluate on the validation set\n",
    "evaluate_all(best_model, val_loader, device)"
   ]
  },
  {
   "cell_type": "code",
   "execution_count": null,
   "metadata": {},
   "outputs": [],
   "source": [
    "# Save the model's state_dict\n",
    "torch.save(model.state_dict(), \"out/models/models4.pt\")"
   ]
  },
  {
   "cell_type": "code",
   "execution_count": null,
   "metadata": {},
   "outputs": [],
   "source": [
    "#### SUBMISSION ####\n",
    "\n",
    "# # Create a dummy model\n",
    "# model = models.resnet18(weights=None)\n",
    "# model.fc = nn.Linear(model.fc.weight.shape[1], 10)\n",
    "# torch.save(model.state_dict(), \"out/models/dummy_submission.pt\")\n",
    "\n",
    "#### Tests ####\n",
    "# (these are being ran on the eval endpoint for every submission)\n",
    "\n",
    "allowed_models = {\n",
    "    \"resnet18\": models.resnet18,\n",
    "    \"resnet34\": models.resnet34,\n",
    "    \"resnet50\": models.resnet50,\n",
    "}\n",
    "with open(\"out/models/models4.pt\", \"rb\") as f:\n",
    "    try:\n",
    "        model: torch.nn.Module = allowed_models[\"resnet34\"](weights=None)\n",
    "        model.fc = torch.nn.Linear(model.fc.weight.shape[1], 10)\n",
    "    except Exception as e:\n",
    "        raise Exception(\n",
    "            f\"Invalid model class, {e=}, only {allowed_models.keys()} are allowed\",\n",
    "        )\n",
    "    try:\n",
    "        state_dict = torch.load(f, map_location=torch.device(\"cpu\"))\n",
    "        model.load_state_dict(state_dict, strict=True)\n",
    "        model.eval()\n",
    "        out = model(torch.randn(1, 3, 32, 32))\n",
    "    except Exception as e:\n",
    "        raise Exception(f\"Invalid model, {e=}\")\n",
    "\n",
    "    assert out.shape == (1, 10), \"Invalid output shape\"\n",
    "\n",
    "\n"
   ]
  },
  {
   "cell_type": "code",
   "execution_count": null,
   "metadata": {},
   "outputs": [],
   "source": [
    "# Send the model to the server\n",
    "import requests\n",
    "response = requests.post(\"http://34.71.138.79:9090/robustness\", files={\"file\": open(\"out/models/models7.pt\", \"rb\")}, headers={\"token\": \"76282151\", \"model-name\": \"resnet34\"})\n",
    "\n",
    "# Should be 400, the clean accuracy is too low\n",
    "print(response.json())"
   ]
  }
 ],
 "metadata": {
  "kernelspec": {
   "display_name": "Python 3",
   "language": "python",
   "name": "python3"
  },
  "language_info": {
   "codemirror_mode": {
    "name": "ipython",
    "version": 3
   },
   "file_extension": ".py",
   "mimetype": "text/x-python",
   "name": "python",
   "nbconvert_exporter": "python",
   "pygments_lexer": "ipython3",
   "version": "3.12.0"
  }
 },
 "nbformat": 4,
 "nbformat_minor": 2
}
